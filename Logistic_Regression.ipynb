{
 "cells": [
  {
   "cell_type": "code",
   "execution_count": 1,
   "metadata": {
    "ExecuteTime": {
     "end_time": "2020-10-07T21:59:37.573469Z",
     "start_time": "2020-10-07T21:59:35.769873Z"
    }
   },
   "outputs": [],
   "source": [
    "from sklearn.datasets import load_breast_cancer\n",
    "import numpy as np\n",
    "from sklearn.model_selection import train_test_split\n",
    "import matplotlib.pyplot as plt\n",
    "from sklearn.linear_model import LogisticRegression\n",
    "from sklearn.metrics import accuracy_score"
   ]
  },
  {
   "cell_type": "code",
   "execution_count": 2,
   "metadata": {
    "ExecuteTime": {
     "end_time": "2020-10-07T21:59:38.025878Z",
     "start_time": "2020-10-07T21:59:38.007184Z"
    }
   },
   "outputs": [],
   "source": [
    "from sklearn.datasets import load_breast_cancer\n",
    "data = load_breast_cancer()"
   ]
  },
  {
   "cell_type": "code",
   "execution_count": 3,
   "metadata": {
    "ExecuteTime": {
     "end_time": "2020-10-07T21:59:38.392423Z",
     "start_time": "2020-10-07T21:59:38.385617Z"
    }
   },
   "outputs": [
    {
     "data": {
      "text/plain": [
       "(569, 30)"
      ]
     },
     "execution_count": 3,
     "metadata": {},
     "output_type": "execute_result"
    }
   ],
   "source": [
    "data.data.shape"
   ]
  },
  {
   "cell_type": "code",
   "execution_count": 4,
   "metadata": {
    "ExecuteTime": {
     "end_time": "2020-10-07T21:59:39.314087Z",
     "start_time": "2020-10-07T21:59:39.296163Z"
    }
   },
   "outputs": [],
   "source": [
    "X = data.data\n",
    "y = data.target\n",
    "X = (X - np.min(X, axis=0)) / (np.max(X, axis=0) - np.min(X, axis=0))"
   ]
  },
  {
   "cell_type": "code",
   "execution_count": 5,
   "metadata": {
    "ExecuteTime": {
     "end_time": "2020-10-07T21:59:39.997382Z",
     "start_time": "2020-10-07T21:59:39.991558Z"
    }
   },
   "outputs": [],
   "source": [
    "X_train, X_test, y_train, y_test = train_test_split(X, y, test_size=0.33, random_state=42)"
   ]
  },
  {
   "cell_type": "code",
   "execution_count": 6,
   "metadata": {
    "ExecuteTime": {
     "end_time": "2020-10-07T21:59:40.442486Z",
     "start_time": "2020-10-07T21:59:40.428977Z"
    }
   },
   "outputs": [
    {
     "name": "stderr",
     "output_type": "stream",
     "text": [
      "/Users/haoanwang/anaconda3/lib/python3.7/site-packages/sklearn/linear_model/logistic.py:432: FutureWarning: Default solver will be changed to 'lbfgs' in 0.22. Specify a solver to silence this warning.\n",
      "  FutureWarning)\n"
     ]
    }
   ],
   "source": [
    "lgr = LogisticRegression()\n",
    "lgr = lgr.fit(X_train, y_train)"
   ]
  },
  {
   "cell_type": "code",
   "execution_count": 7,
   "metadata": {
    "ExecuteTime": {
     "end_time": "2020-10-07T21:59:41.860673Z",
     "start_time": "2020-10-07T21:59:41.853385Z"
    }
   },
   "outputs": [
    {
     "data": {
      "text/plain": [
       "0.968503937007874"
      ]
     },
     "execution_count": 7,
     "metadata": {},
     "output_type": "execute_result"
    }
   ],
   "source": [
    "lgr.score(X_train, y_train)"
   ]
  },
  {
   "cell_type": "code",
   "execution_count": 8,
   "metadata": {
    "ExecuteTime": {
     "end_time": "2020-10-07T21:59:48.292923Z",
     "start_time": "2020-10-07T21:59:48.276634Z"
    }
   },
   "outputs": [],
   "source": [
    "class MyLogisticRegression:\n",
    "    def __init__(self,learning_rate = 0.1, max_iteration = 10000):\n",
    "        self.X_train = None\n",
    "        self.y_train = None\n",
    "        self.w = None\n",
    "        self.lr = learning_rate\n",
    "        self.iteration = max_iteration\n",
    "        \n",
    "    def loss(self, y_true, y_prob):\n",
    "        return -np.dot(y_true.T, np.log(y_prob)) - np.dot((1-y_true.T), np.log(1-y_prob.T))\n",
    "    \n",
    "    def linear(self, X):\n",
    "        return np.dot(X, self.w) + self.b\n",
    "    \n",
    "    def sigmoid(self, z):\n",
    "        return 1/(1+np.exp(-z))\n",
    "                       \n",
    "    def fit(self, X, y):\n",
    "        self.X_train = X\n",
    "        self.y_train = y.reshape(-1,1)\n",
    "        self.w = np.random.rand(self.X_train.shape[1], 1)\n",
    "        self.b = 0\n",
    "        \n",
    "        i = 0\n",
    "        while i < self.iteration:\n",
    "            y_prob = self.sigmoid(self.linear(self.X_train))\n",
    "            self.w -=self.lr*(np.dot(self.X_train.T, (y_prob-self.y_train))+0.05*self.w)/len(self.X_train)\n",
    "            self.b -= self.lr*np.mean(y_prob-self.y_train)\n",
    "            i += 1\n",
    "        return self\n",
    "    \n",
    "    def predict_prob(self, X):\n",
    "        return self.sigmoid(self.linear(X))\n",
    "    \n",
    "    def predict(self, X):\n",
    "        y_prob = self.predict_prob(X)\n",
    "        return np.array([1 if i >= 0.5 else 0 for i in y_prob])"
   ]
  },
  {
   "cell_type": "code",
   "execution_count": 9,
   "metadata": {
    "ExecuteTime": {
     "end_time": "2020-10-07T21:59:49.476189Z",
     "start_time": "2020-10-07T21:59:48.986886Z"
    },
    "scrolled": false
   },
   "outputs": [],
   "source": [
    "mylr = MyLogisticRegression().fit(X_train, y_train)"
   ]
  },
  {
   "cell_type": "code",
   "execution_count": 10,
   "metadata": {
    "ExecuteTime": {
     "end_time": "2020-10-07T21:59:50.195915Z",
     "start_time": "2020-10-07T21:59:50.187015Z"
    }
   },
   "outputs": [
    {
     "data": {
      "text/plain": [
       "0.973404255319149"
      ]
     },
     "execution_count": 10,
     "metadata": {},
     "output_type": "execute_result"
    }
   ],
   "source": [
    "accuracy_score(y_test, mylr.predict(X_test))"
   ]
  }
 ],
 "metadata": {
  "kernelspec": {
   "display_name": "Python 3",
   "language": "python",
   "name": "python3"
  },
  "language_info": {
   "codemirror_mode": {
    "name": "ipython",
    "version": 3
   },
   "file_extension": ".py",
   "mimetype": "text/x-python",
   "name": "python",
   "nbconvert_exporter": "python",
   "pygments_lexer": "ipython3",
   "version": "3.7.4"
  },
  "toc": {
   "base_numbering": 1,
   "nav_menu": {},
   "number_sections": true,
   "sideBar": true,
   "skip_h1_title": false,
   "title_cell": "Table of Contents",
   "title_sidebar": "Contents",
   "toc_cell": false,
   "toc_position": {},
   "toc_section_display": true,
   "toc_window_display": false
  },
  "varInspector": {
   "cols": {
    "lenName": 16,
    "lenType": 16,
    "lenVar": 40
   },
   "kernels_config": {
    "python": {
     "delete_cmd_postfix": "",
     "delete_cmd_prefix": "del ",
     "library": "var_list.py",
     "varRefreshCmd": "print(var_dic_list())"
    },
    "r": {
     "delete_cmd_postfix": ") ",
     "delete_cmd_prefix": "rm(",
     "library": "var_list.r",
     "varRefreshCmd": "cat(var_dic_list()) "
    }
   },
   "types_to_exclude": [
    "module",
    "function",
    "builtin_function_or_method",
    "instance",
    "_Feature"
   ],
   "window_display": false
  }
 },
 "nbformat": 4,
 "nbformat_minor": 4
}
